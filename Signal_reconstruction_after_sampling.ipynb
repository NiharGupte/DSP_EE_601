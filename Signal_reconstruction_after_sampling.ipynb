{
  "nbformat": 4,
  "nbformat_minor": 0,
  "metadata": {
    "colab": {
      "provenance": [],
      "collapsed_sections": [
        "3gX5gRAv0e7E"
      ]
    },
    "kernelspec": {
      "name": "python3",
      "display_name": "Python 3"
    },
    "language_info": {
      "name": "python"
    }
  },
  "cells": [
    {
      "cell_type": "markdown",
      "metadata": {
        "id": "6YKuHwgc0YXp"
      },
      "source": [
        "# DSP Q3. Simulation for assignment 2"
      ]
    },
    {
      "cell_type": "markdown",
      "metadata": {
        "id": "3gX5gRAv0e7E"
      },
      "source": [
        "#### Let $x(t) = rect(t)$, where $t$ is measured in seconds. That is, $x(t) = 1 for$ $t \\in [-0.5; 0.5]$, and 0 otherwise. \n",
        "\n",
        "This signal is sampled at the following rates and then reconstructed as $\\hat x(t)$ using a corresponding sinc reconstruction filter:\n",
        "\n",
        "(a) $fs = 1 Hz$\n",
        "\n",
        "(b) $fs = 10 Hz$\n",
        "\n",
        "(c) $fs = 100 Hz$\n",
        "\n",
        "Plot the reconstructed output $\\hat x(t)$ for each case above, and compute the sum squared error : \n",
        "\\begin{equation}\n",
        "\\int_{-\\infty}^{\\infty} |x(t) - \\hat x(t) |^{2}\n",
        "\\end{equation}\n",
        "in each case (you can approximate this using the numpy.trapz function). What is your observation? Explain."
      ]
    },
    {
      "cell_type": "markdown",
      "metadata": {
        "id": "p0jCfK_H3JWa"
      },
      "source": [
        "##**Solution**\n",
        "\n",
        "Firstly, we import the libraries as shown below. $Numpy$ and $matplotlib.pyplot$ for numerical computation and plotting respectively. Also, we specify the sampling frequency as given in the question."
      ]
    },
    {
      "cell_type": "code",
      "metadata": {
        "id": "5LzTGqSh8UD3"
      },
      "source": [
        "import numpy as np\n",
        "import matplotlib.pyplot as plt\n",
        "import scipy.signal\n",
        " \n",
        "f1 = 1\n",
        "f2 = 10\n",
        "f3 = 100"
      ],
      "execution_count": null,
      "outputs": []
    },
    {
      "cell_type": "markdown",
      "metadata": {
        "id": "xVrsRIyA3-DJ"
      },
      "source": [
        "Now, we define the $rect\\_sampled$ function which takes the sampling frequency as input and generates corresponding sampled version of rectangular function."
      ]
    },
    {
      "cell_type": "code",
      "metadata": {
        "id": "oS8yNd5d3oBf"
      },
      "source": [
        "def rect_sampled(fs):\n",
        "  T = 10                                # Interval for which the signal will be defined. 10 means, it will be for -5 to 5\n",
        "  t = np.arange(-T//2,T//2 + 1/fs,1/fs)      # +1 to include the final point sample as well\n",
        "\n",
        "  y = np.where((np.abs(t) <= 0.5),1,0)  #discrete sampled rectangular signal with number of samples = 1/fs\n",
        "  return t,y"
      ],
      "execution_count": null,
      "outputs": []
    },
    {
      "cell_type": "markdown",
      "metadata": {
        "id": "lTvPRtEF4mec"
      },
      "source": [
        "Here, a reconstruction function is defined which again takes in sampled signal and frequency of the sinc pulse. Then, we define the range of sinc from -5 to 5 with a small time spacing between each sample so that the signal appears continuous. Later, we generate the sinc pulse for the particular range.\n",
        "\n",
        "In order to obtain the original signal back from the sampled signal, we pass it through a low pass filter of cutoff frequency $f_{c}$ in frequency domain. This specifies convolution of sampled signal with $sinc(f_c t)$ in time domain.\n",
        "\n",
        "\\begin{equation}\n",
        "X_c(j \\Omega) \\cdot rect(\\frac{\\Omega}{\\Omega_c}) = \\frac{1}{2\\pi} \\int_{-\\infty}^{\\tau} x_c(\\tau) \\cdot sinc(f_c(t - \\tau)) d\\tau  \n",
        "\\end{equation}\n",
        "\n",
        "where $X_c(j\\Omega)$ is the fourier transform of sampled signal, periodic with $\\Omega = 2\\pi f_c$. Also the sampling frequency has to be higher than twice the maximum frequency present in the original signal."
      ]
    },
    {
      "cell_type": "code",
      "metadata": {
        "id": "o2C1WRG-3sWM"
      },
      "source": [
        "def reconstruction(y1,fs):\n",
        "  t = np.linspace(-5,5,10000) # t axis for reconstructed signal\n",
        "  num_coeffs=len(y1)\n",
        "  final_rect=0\n",
        "  for k in range(-num_coeffs,0,1): # since function is real, need both sides\n",
        "    final_rect += (y1[k])*np.sinc( k + num_coeffs//2 + 1 - fs*t)  #num_coeffs //2 added to make the shift towards the center\n",
        "\n",
        "  '''  \n",
        "  Here the way of convolving is, since y1 has say 11 samples, so we iterate from -11 to -1, meanwhile we shift the sinc pulse at k + (N/2) + 1after reversing so that it is at center\n",
        "  N/2 is added because -11 sample corresponds to -11 + N/2 + 1 instant of time, -10 sample corresponds to -10 + N/2 + 1 instant of time and so on.\n",
        "\n",
        "  '''\n",
        "  return t,final_rect "
      ],
      "execution_count": null,
      "outputs": []
    },
    {
      "cell_type": "code",
      "metadata": {
        "id": "a4cK7vIC9QPN",
        "colab": {
          "base_uri": "https://localhost:8080/",
          "height": 980
        },
        "outputId": "407a93ee-47d7-49c7-d2c7-595f4ef38556"
      },
      "source": [
        "t1,y1 = rect_sampled(f1)\n",
        "t2,y2 = rect_sampled(f2)\n",
        "t3,y3 = rect_sampled(f3)\n",
        "\n",
        "figure = plt.figure(figsize = [20,15])\n",
        "\n",
        "figure.add_subplot(3,5,1)\n",
        "plt.stem(t1,y1)\n",
        "plt.title(\"Sampled rectangular pulse at f = 1\")\n",
        "plt.xlabel(\"time axis\")\n",
        "plt.ylabel(\"$y_{1}[n]$\")\n",
        "plt.grid()\n",
        "plt.axhline(color = \"black\")\n",
        "plt.axvline(color = \"black\")\n",
        "\n",
        "\n",
        "figure.add_subplot(3,5,3)\n",
        "plt.stem(t2,y2)\n",
        "plt.title(\"Sampled rectangular pulse at f = 10\")\n",
        "plt.xlabel(\"time axis\")\n",
        "plt.ylabel(\"$y_{2}[n]$\")\n",
        "plt.grid()\n",
        "plt.axhline(color = \"black\")\n",
        "plt.axvline(color = \"black\")\n",
        "\n",
        "\n",
        "figure.add_subplot(3,5,5)\n",
        "plt.stem(t3,y3)\n",
        "plt.title(\"Sampled rectangular pulse at f = 100\")\n",
        "plt.xlabel(\"time axis\")\n",
        "plt.ylabel(\"$y_{3}[n]$\")\n",
        "plt.grid()\n",
        "plt.axhline(color = \"black\")\n",
        "plt.axvline(color = \"black\")\n",
        "\n",
        "\n",
        "t_sinc_1, rect_1 = reconstruction(y1,1)\n",
        "t_sinc_2, rect_2 = reconstruction(y2,10)\n",
        "t_sinc_3, rect_3 = reconstruction(y3,100)\n",
        "\n",
        "\n",
        "figure.add_subplot(3,5,11)\n",
        "plt.plot(t_sinc_1,rect_1)\n",
        "plt.title(\"Reconstructed rectangular pulse with sinc at f = 1\")\n",
        "plt.xlabel(\"time axis\")\n",
        "plt.ylabel(\"rect_1\")\n",
        "plt.grid()\n",
        "plt.axhline(color = \"black\")\n",
        "plt.axvline(color = \"black\")\n",
        "\n",
        "figure.add_subplot(3,5,13)\n",
        "plt.plot(t_sinc_2,rect_2)\n",
        "plt.title(\"Reconstructed rectangular pulse with sinc at f = 10\")\n",
        "plt.xlabel(\"time axis\")\n",
        "plt.ylabel(\"rect_2\")\n",
        "plt.grid()\n",
        "plt.axhline(color = \"black\")\n",
        "plt.axvline(color = \"black\")\n",
        "\n",
        "figure.add_subplot(3,5,15)\n",
        "plt.plot(t_sinc_3,rect_3)\n",
        "plt.title(\"Reconstructed rectangular pulse with sinc at f = 100\")\n",
        "plt.xlabel(\"time axis\")\n",
        "plt.ylabel(\"rect_3\")\n",
        "plt.grid()\n",
        "plt.axhline(color = \"black\")\n",
        "plt.axvline(color = \"black\")\n",
        "\n",
        "\n",
        "plt.show()\n"
      ],
      "execution_count": null,
      "outputs": [
        {
          "output_type": "stream",
          "name": "stderr",
          "text": [
            "/usr/local/lib/python3.7/dist-packages/ipykernel_launcher.py:8: UserWarning: In Matplotlib 3.3 individual lines on a stem plot will be added as a LineCollection instead of individual lines. This significantly improves the performance of a stem plot. To remove this warning and switch to the new behaviour, set the \"use_line_collection\" keyword argument to True.\n",
            "  \n",
            "/usr/local/lib/python3.7/dist-packages/ipykernel_launcher.py:18: UserWarning: In Matplotlib 3.3 individual lines on a stem plot will be added as a LineCollection instead of individual lines. This significantly improves the performance of a stem plot. To remove this warning and switch to the new behaviour, set the \"use_line_collection\" keyword argument to True.\n",
            "/usr/local/lib/python3.7/dist-packages/ipykernel_launcher.py:28: UserWarning: In Matplotlib 3.3 individual lines on a stem plot will be added as a LineCollection instead of individual lines. This significantly improves the performance of a stem plot. To remove this warning and switch to the new behaviour, set the \"use_line_collection\" keyword argument to True.\n"
          ]
        },
        {
          "output_type": "display_data",
          "data": {
            "image/png": "[encoded data removed]",
            "text/plain": [
              "<Figure size 1440x1080 with 6 Axes>"
            ]
          },
          "metadata": {
            "needs_background": "light"
          }
        }
      ]
    },
    {
      "cell_type": "markdown",
      "metadata": {
        "id": "Y6MGqYBqZiRX"
      },
      "source": [
        "The mean squared error goes on decreasing here as we increase the number of samples"
      ]
    },
    {
      "cell_type": "code",
      "metadata": {
        "colab": {
          "base_uri": "https://localhost:8080/"
        },
        "id": "mjl9ZgfzZhT0",
        "outputId": "356db038-c490-47ca-984b-c4cea4a84aa3"
      },
      "source": [
        "Ideal_rect = np.where(abs(t_sinc_1)<= 0.5, 1, 0)\n",
        "\n",
        "e1 = np.trapz((Ideal_rect - rect_1)**2)\n",
        "e2 = np.trapz((Ideal_rect - rect_2)**2)\n",
        "e3 = np.trapz((Ideal_rect - rect_3)**2)\n",
        "\n",
        "print(\"Error in {0} Hz sampled rectangle pulse is {1}\".format(1,e1))\n",
        "print(\"Error in {0} Hz sampled rectangle pulse is {1}\".format(10,e2))\n",
        "print(\"Error in {0} Hz sampled rectangle pulse is {1}\".format(100,e3))"
      ],
      "execution_count": null,
      "outputs": [
        {
          "output_type": "stream",
          "name": "stdout",
          "text": [
            "Error in 1 Hz sampled rectangle pulse is 234.41676678690624\n",
            "Error in 10 Hz sampled rectangle pulse is 75.89408579670956\n",
            "Error in 100 Hz sampled rectangle pulse is 7.588289185591102\n"
          ]
        }
      ]
    },
    {
      "cell_type": "markdown",
      "metadata": {
        "id": "7ZiRrDwVZhAi"
      },
      "source": []
    },
    {
      "cell_type": "markdown",
      "metadata": {
        "id": "3JghX1U6PfAE"
      },
      "source": [
        "##Observation\n",
        "\n",
        "Since the rectangular pulse signal contains infinite frequencies present in itself, (band unlimited as the fourier transform of rectangular signal exists for entire frequency domain, from $-\\infty$ to $+\\infty$, it will always be aliased. This can be improved by taking as large number of samples as possible. For example if sampling frequency is 1 kHz, the following thing can be obtained."
      ]
    },
    {
      "cell_type": "code",
      "metadata": {
        "colab": {
          "base_uri": "https://localhost:8080/",
          "height": 335
        },
        "id": "_3gcMl7KPZlt",
        "outputId": "7391018a-2176-4fe4-e428-fe47492ccdde"
      },
      "source": [
        "fs = 1000\n",
        "\n",
        "t_rect, y = rect_sampled(fs)\n",
        "\n",
        "plt.stem(t_rect,y) #almost continuous, but it isn't. For a time range of -5 to 5 and sampling frequency of 1000, it has a sample after every 0.001 second."
      ],
      "execution_count": null,
      "outputs": [
        {
          "output_type": "stream",
          "name": "stderr",
          "text": [
            "/usr/local/lib/python3.7/dist-packages/ipykernel_launcher.py:5: UserWarning: In Matplotlib 3.3 individual lines on a stem plot will be added as a LineCollection instead of individual lines. This significantly improves the performance of a stem plot. To remove this warning and switch to the new behaviour, set the \"use_line_collection\" keyword argument to True.\n",
            "  \"\"\"\n"
          ]
        },
        {
          "output_type": "execute_result",
          "data": {
            "text/plain": [
              "<StemContainer object of 3 artists>"
            ]
          },
          "metadata": {},
          "execution_count": 82
        },
        {
          "output_type": "display_data",
          "data": {
            "image/png": "[encoded data removed]",
            "text/plain": [
              "<Figure size 432x288 with 1 Axes>"
            ]
          },
          "metadata": {
            "needs_background": "light"
          }
        }
      ]
    },
    {
      "cell_type": "code",
      "metadata": {
        "colab": {
          "base_uri": "https://localhost:8080/",
          "height": 241
        },
        "id": "MvARKQx1QWan",
        "outputId": "d4449da7-d23e-4132-e427-21f82524e563"
      },
      "source": [
        "f_Rec = 1000\n",
        "\n",
        "t_sinc,rect = reconstruction(y,f_Rec)\n",
        "\n",
        "figure = plt.figure(figsize = [10,7])\n",
        "\n",
        "figure.add_subplot(2,2,1)\n",
        "\n",
        "plt.plot(t_sinc,rect)\n",
        "\n"
      ],
      "execution_count": null,
      "outputs": [
        {
          "output_type": "execute_result",
          "data": {
            "text/plain": [
              "[<matplotlib.lines.Line2D at 0x7efe8a77c350>]"
            ]
          },
          "metadata": {},
          "execution_count": 83
        },
        {
          "output_type": "display_data",
          "data": {
            "image/png": "[encoded data removed]",
            "text/plain": [
              "<Figure size 720x504 with 1 Axes>"
            ]
          },
          "metadata": {
            "needs_background": "light"
          }
        }
      ]
    },
    {
      "cell_type": "markdown",
      "metadata": {
        "id": "QgJq_K1uY3V4"
      },
      "source": [
        "Thus, more the sampling rate, better the reconstruction"
      ]
    },
    {
      "cell_type": "code",
      "metadata": {
        "colab": {
          "base_uri": "https://localhost:8080/"
        },
        "id": "XsxO4BUQROc5",
        "outputId": "9f46f002-ea14-4a24-d677-50e21c6ff7c6"
      },
      "source": [
        "e4 = np.trapz((Ideal_rect - rect)**2)\n",
        "\n",
        "print(\"Error in {0} Hz sampled rectangle pulse is {1}\".format(1000,e4))"
      ],
      "execution_count": null,
      "outputs": [
        {
          "output_type": "stream",
          "name": "stdout",
          "text": [
            "Error in 1000 Hz sampled rectangle pulse is 0.6403397886916643\n"
          ]
        }
      ]
    }
  ]
}